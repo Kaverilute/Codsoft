{
 "cells": [
  {
   "cell_type": "code",
   "execution_count": 1,
   "id": "e078e445-6c25-4dc5-bc9b-16ef2c026b6d",
   "metadata": {},
   "outputs": [
    {
     "name": "stdin",
     "output_type": "stream",
     "text": [
      "Enter the number of passwords to generate:  3\n",
      "Enter the length of each password:  21\n"
     ]
    },
    {
     "name": "stdout",
     "output_type": "stream",
     "text": [
      " \n",
      " Generated Password: M73K6r:~1[?tgE1J-SHno\n",
      "\n",
      " \n",
      " Generated Password: I*L&eGS.sPy$%GYdatOPG\n",
      "\n",
      " \n",
      " Generated Password: :@0mB*&9{z!|Z\"khWtakF\n",
      "\n"
     ]
    }
   ],
   "source": [
    "import random\n",
    "import string\n",
    "\n",
    "def generate_password(length):\n",
    "    # Define the set of characters to use in the password\n",
    "    characters = string.ascii_letters + string.digits + string.punctuation\n",
    "    \n",
    "    # Generate the password\n",
    "    password = ''.join(random.choice(characters) for _ in range(length))\n",
    "    \n",
    "    return password\n",
    "\n",
    "def main():\n",
    "    while True:\n",
    "        try:\n",
    "            password_count = int(input(\"Enter the number of passwords to generate: \"))\n",
    "            if password_count <= 0:\n",
    "                print(\"Number of passwords must be greater than zero. Please try again.\")\n",
    "            else:\n",
    "                break\n",
    "        except ValueError:\n",
    "            print(\"Invalid input. Please enter a valid number.\")\n",
    "\n",
    "    while True:\n",
    "        try:\n",
    "            password_length = int(input(\"Enter the length of each password: \"))\n",
    "            if password_length <= 0:\n",
    "                print(\"Password length must be greater than zero. Please try again.\")\n",
    "            else:\n",
    "                break\n",
    "        except ValueError:\n",
    "            print(\"Invalid input. Please enter a valid number.\")\n",
    "\n",
    "    for _ in range(password_count):\n",
    "        password = generate_password(password_length)\n",
    "        print(\" \\n Generated Password:\", password)\n",
    "        print()  # Adding a blank line between passwords for clarity\n",
    "\n",
    "# Run the main function\n",
    "if __name__ == \"__main__\":\n",
    "    main()\n"
   ]
  },
  {
   "cell_type": "code",
   "execution_count": null,
   "id": "032eb0eb-1395-4a7b-bd31-8d5d1f41c07c",
   "metadata": {},
   "outputs": [],
   "source": []
  }
 ],
 "metadata": {
  "kernelspec": {
   "display_name": "Python 3 (ipykernel)",
   "language": "python",
   "name": "python3"
  },
  "language_info": {
   "codemirror_mode": {
    "name": "ipython",
    "version": 3
   },
   "file_extension": ".py",
   "mimetype": "text/x-python",
   "name": "python",
   "nbconvert_exporter": "python",
   "pygments_lexer": "ipython3",
   "version": "3.11.7"
  }
 },
 "nbformat": 4,
 "nbformat_minor": 5
}
