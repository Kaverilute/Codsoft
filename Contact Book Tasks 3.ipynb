{
 "cells": [
  {
   "cell_type": "code",
   "execution_count": 1,
   "id": "10a75532-4a6d-45ef-8c2a-1573c60779ff",
   "metadata": {},
   "outputs": [
    {
     "name": "stdout",
     "output_type": "stream",
     "text": [
      "\n",
      "==== Contact Book Menu ====\n",
      "1. Add New Contact\n",
      "2. View All Contacts\n",
      "3. Search Contact\n",
      "4. Update Contact\n",
      "5. Delete Contact\n",
      "6. Exit\n"
     ]
    },
    {
     "name": "stdin",
     "output_type": "stream",
     "text": [
      "Enter your choice (1-6):  1\n",
      "Enter name:  KAVERI\n",
      "Enter phone number:  34567823112\n",
      "Enter email:  kaverilute234@gmail.com\n",
      "Enter address:  ranjangaon khurd\n"
     ]
    },
    {
     "name": "stdout",
     "output_type": "stream",
     "text": [
      "Contact added successfully.\n",
      "\n",
      "==== Contact Book Menu ====\n",
      "1. Add New Contact\n",
      "2. View All Contacts\n",
      "3. Search Contact\n",
      "4. Update Contact\n",
      "5. Delete Contact\n",
      "6. Exit\n"
     ]
    },
    {
     "name": "stdin",
     "output_type": "stream",
     "text": [
      "Enter your choice (1-6):  6\n"
     ]
    },
    {
     "name": "stdout",
     "output_type": "stream",
     "text": [
      "Exiting Contact Book. Goodbye!\n"
     ]
    }
   ],
   "source": [
    "class Contact:\n",
    "    def __init__(self, name, phone_number, email, address):\n",
    "        self.name = name\n",
    "        self.phone_number = phone_number\n",
    "        self.email = email\n",
    "        self.address = address\n",
    "    \n",
    "    def __str__(self):\n",
    "        return f\"Name: {self.name}\\nPhone: {self.phone_number}\\nEmail: {self.email}\\nAddress: {self.address}\"\n",
    "\n",
    "class ContactBook:\n",
    "    def __init__(self):\n",
    "        self.contacts = []\n",
    "    \n",
    "    def add_contact(self, contact):\n",
    "        self.contacts.append(contact)\n",
    "        print(\"Contact added successfully.\")\n",
    "    \n",
    "    def view_contacts(self):\n",
    "        if not self.contacts:\n",
    "            print(\"Contact book is empty.\")\n",
    "        else:\n",
    "            for idx, contact in enumerate(self.contacts, start=1):\n",
    "                print(f\"Contact {idx}:\")\n",
    "                print(contact)\n",
    "                print(\"--------------------\")\n",
    "    \n",
    "    def search_contact(self, search_key):\n",
    "        found = False\n",
    "        for contact in self.contacts:\n",
    "            if search_key.lower() in contact.name.lower() or search_key in contact.phone_number:\n",
    "                print(contact)\n",
    "                found = True\n",
    "        if not found:\n",
    "            print(\"No matching contacts found.\")\n",
    "    \n",
    "    def update_contact(self, search_key):\n",
    "        found = False\n",
    "        for contact in self.contacts:\n",
    "            if search_key.lower() in contact.name.lower() or search_key in contact.phone_number:\n",
    "                new_name = input(f\"Enter new name for {contact.name}: \")\n",
    "                new_phone = input(f\"Enter new phone number for {contact.name}: \")\n",
    "                new_email = input(f\"Enter new email for {contact.name}: \")\n",
    "                new_address = input(f\"Enter new address for {contact.name}: \")\n",
    "                \n",
    "                contact.name = new_name if new_name else contact.name\n",
    "                contact.phone_number = new_phone if new_phone else contact.phone_number\n",
    "                contact.email = new_email if new_email else contact.email\n",
    "                contact.address = new_address if new_address else contact.address\n",
    "                \n",
    "                print(\"Contact updated successfully.\")\n",
    "                found = True\n",
    "        if not found:\n",
    "            print(\"No matching contacts found.\")\n",
    "    \n",
    "    def delete_contact(self, search_key):\n",
    "        found = False\n",
    "        for contact in self.contacts:\n",
    "            if search_key.lower() in contact.name.lower() or search_key in contact.phone_number:\n",
    "                self.contacts.remove(contact)\n",
    "                print(\"Contact deleted successfully.\")\n",
    "                found = True\n",
    "        if not found:\n",
    "            print(\"No matching contacts found.\")\n",
    "\n",
    "def main():\n",
    "    contact_book = ContactBook()\n",
    "    \n",
    "    while True:\n",
    "        print(\"\\n==== Contact Book Menu ====\")\n",
    "        print(\"1. Add New Contact\")\n",
    "        print(\"2. View All Contacts\")\n",
    "        print(\"3. Search Contact\")\n",
    "        print(\"4. Update Contact\")\n",
    "        print(\"5. Delete Contact\")\n",
    "        print(\"6. Exit\")\n",
    "        \n",
    "        choice = input(\"Enter your choice (1-6): \")\n",
    "        \n",
    "        if choice == '1':\n",
    "            name = input(\"Enter name: \")\n",
    "            phone_number = input(\"Enter phone number: \")\n",
    "            email = input(\"Enter email: \")\n",
    "            address = input(\"Enter address: \")\n",
    "            new_contact = Contact(name, phone_number, email, address)\n",
    "            contact_book.add_contact(new_contact)\n",
    "        \n",
    "        elif choice == '2':\n",
    "            contact_book.view_contacts()\n",
    "        \n",
    "        elif choice == '3':\n",
    "            search_key = input(\"Enter name or phone number to search: \")\n",
    "            contact_book.search_contact(search_key)\n",
    "        \n",
    "        elif choice == '4':\n",
    "            search_key = input(\"Enter name or phone number to update: \")\n",
    "            contact_book.update_contact(search_key)\n",
    "        \n",
    "        elif choice == '5':\n",
    "            search_key = input(\"Enter name or phone number to delete: \")\n",
    "            contact_book.delete_contact(search_key)\n",
    "        \n",
    "        elif choice == '6':\n",
    "            print(\"Exiting Contact Book. Goodbye!\")\n",
    "            break\n",
    "        \n",
    "        else:\n",
    "            print(\"Invalid choice. Please enter a number between 1 and 6.\")\n",
    "\n",
    "if __name__ == \"__main__\":\n",
    "    main()\n"
   ]
  },
  {
   "cell_type": "code",
   "execution_count": null,
   "id": "c4a6456e-8608-4f51-9ae5-d9c7c1a903f4",
   "metadata": {},
   "outputs": [],
   "source": []
  }
 ],
 "metadata": {
  "kernelspec": {
   "display_name": "Python 3 (ipykernel)",
   "language": "python",
   "name": "python3"
  },
  "language_info": {
   "codemirror_mode": {
    "name": "ipython",
    "version": 3
   },
   "file_extension": ".py",
   "mimetype": "text/x-python",
   "name": "python",
   "nbconvert_exporter": "python",
   "pygments_lexer": "ipython3",
   "version": "3.11.7"
  }
 },
 "nbformat": 4,
 "nbformat_minor": 5
}
